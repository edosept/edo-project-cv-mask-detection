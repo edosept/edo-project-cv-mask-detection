{
 "cells": [
  {
   "cell_type": "code",
   "execution_count": 1,
   "metadata": {},
   "outputs": [],
   "source": [
    "import cv2\n",
    "from utils import detect_face, calculate_skin_percent"
   ]
  },
  {
   "cell_type": "code",
   "execution_count": 2,
   "metadata": {},
   "outputs": [],
   "source": [
    "net = cv2.dnn.readNetFromTensorflow(\"model/opencv_pretrained_face_detector_uint8.pb\", \n",
    "                                    \"model/opencv_pretrained_face_detector.pbtxt\")"
   ]
  },
  {
   "cell_type": "code",
   "execution_count": 3,
   "metadata": {},
   "outputs": [],
   "source": [
    "cam = cv2.VideoCapture(0)\n",
    "\n",
    "while True:\n",
    "    ret, frame = cam.read()\n",
    "    if ret:\n",
    "        bbox = detect_face(net, frame)\n",
    "        for x1, y1, x2, y2 in bbox:\n",
    "            face = frame[y1:y2, x1:x2, :].copy()\n",
    "            \n",
    "            pct = calculate_skin_percent(face)\n",
    "            if pct > 0.35:\n",
    "                cv2.putText(frame, \"Mohon dipakai maskernya\", (x1, y1), cv2.FONT_HERSHEY_DUPLEX, 0.5, (255, 255, 255), 1)\n",
    "            else:\n",
    "                cv2.putText(frame, \"Good, masker dipakai\", (x1, y1), cv2.FONT_HERSHEY_DUPLEX, 0.5, (255, 255, 255), 1)                \n",
    "            cv2.rectangle(frame, (x1, y1), (x2, y2), (0, 255, 0), 1)\n",
    "        cv2.imshow(\"Face detection\", frame)\n",
    "        \n",
    "        key = cv2.waitKey(1)\n",
    "        if key == ord(\"q\"):\n",
    "            break\n",
    "    else:\n",
    "        break\n",
    "cam.release()"
   ]
  },
  {
   "cell_type": "code",
   "execution_count": 3,
   "metadata": {},
   "outputs": [],
   "source": [
    "# #code dengan rekam video\n",
    "# cam = cv2.VideoCapture(0)\n",
    "# fourcc = cv2.VideoWriter_fourcc(*'XVID')\n",
    "# out = cv2.VideoWriter('mask.avi', fourcc, 5.0, (640,480))\n",
    "\n",
    "# while True:\n",
    "#     ret, frame = cam.read()\n",
    "#     if ret:\n",
    "#         bbox = detect_face(net, frame)\n",
    "#         for x1, y1, x2, y2 in bbox:\n",
    "#             face = frame[y1:y2, x1:x2, :].copy()\n",
    "            \n",
    "#             pct = calculate_skin_percent(face)\n",
    "#             if pct > 0.35:\n",
    "#                 cv2.putText(frame, \"Mohon dipakai maskernya\", (x1, y1), cv2.FONT_HERSHEY_DUPLEX, 0.5, (255, 255, 255), 1)\n",
    "#             else:\n",
    "#                 cv2.putText(frame, \"Good, masker dipakai\", (x1, y1), cv2.FONT_HERSHEY_DUPLEX, 0.5, (255, 255, 255), 1)                \n",
    "#             cv2.rectangle(frame, (x1, y1), (x2, y2), (0, 255, 0), 1)\n",
    "        \n",
    "#         out.write(frame)\n",
    "        \n",
    "#         cv2.imshow(\"mask detection\", frame)\n",
    "        \n",
    "#         key = cv2.waitKey(1)\n",
    "#         if key == ord(\"q\"):\n",
    "#             break\n",
    "#     else:\n",
    "#         break\n",
    "# cam.release()\n",
    "# out.release()"
   ]
  },
  {
   "cell_type": "code",
   "execution_count": null,
   "metadata": {},
   "outputs": [],
   "source": []
  }
 ],
 "metadata": {
  "kernelspec": {
   "display_name": "Python [conda env:mask_detection]",
   "language": "python",
   "name": "conda-env-mask_detection-py"
  },
  "language_info": {
   "codemirror_mode": {
    "name": "ipython",
    "version": 3
   },
   "file_extension": ".py",
   "mimetype": "text/x-python",
   "name": "python",
   "nbconvert_exporter": "python",
   "pygments_lexer": "ipython3",
   "version": "3.7.6"
  }
 },
 "nbformat": 4,
 "nbformat_minor": 2
}
